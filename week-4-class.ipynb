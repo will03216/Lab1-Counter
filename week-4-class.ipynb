{
  "cells": [
    {
      "cell_type": "markdown",
      "id": "fee8644f",
      "metadata": {
        "id": "fee8644f"
      },
      "source": [
        "# Week 4 Class\n",
        "\n",
        "1. Rewrite the merge sort code, adding assertions to check that the loop invariant is satisfied.\n",
        "2. Write code to sum the value in an array. Find a loop invariant for your code, and use it to prove that your code correctly sums those values."
      ]
    },
    {
      "cell_type": "code",
      "source": [
        "def sum(A):\n",
        "  sum = 0\n",
        "  for i in A:\n",
        "    sum = sum + i\n",
        "    sum_check = sum\n",
        "  for i in A:\n",
        "    sum_check = sum_check - i\n",
        "  assert sum_check == 0\n",
        "  return sum\n",
        "\n",
        "print (sum([1, 2, 3]))"
      ],
      "metadata": {
        "id": "y76fK2ld8AVd",
        "outputId": "82ac0b18-9969-45b2-c37c-0dc60cf47b6b",
        "colab": {
          "base_uri": "https://localhost:8080/"
        }
      },
      "id": "y76fK2ld8AVd",
      "execution_count": 22,
      "outputs": [
        {
          "output_type": "stream",
          "name": "stdout",
          "text": [
            "6\n"
          ]
        }
      ]
    },
    {
      "cell_type": "code",
      "source": [
        "\n",
        "\n",
        "def merge_sort(arr):\n",
        "    if len(arr) <= 1:\n",
        "        return arr\n",
        "    mid = len(arr) // 2\n",
        "    left_half = merge_sort(arr[:mid])\n",
        "    right_half = merge_sort(arr[mid:])\n",
        "\n",
        "    return merge(left_half, right_half)\n",
        "\n",
        "def merge(left, right):\n",
        "    sorted_array = []\n",
        "    i = j = 0\n",
        "\n",
        "    while i < len(left) and j < len(right):\n",
        "        if left[i] < right[j]:\n",
        "            sorted_array.append(left[i])\n",
        "            i += 1\n",
        "\n",
        "        else:\n",
        "            sorted_array.append(right[j])\n",
        "            j += 1\n",
        "        if (i < len(left)):\n",
        "          assert sorted_array[-1] < left[i]\n",
        "        if (j < len(right)):\n",
        "          assert sorted_array[-1] < right[j]\n",
        "\n",
        "\n",
        "    sorted_array.extend(left[i:])\n",
        "    sorted_array.extend(right[j:])\n",
        "\n",
        "    return sorted_array\n",
        "\n",
        "arr = [38, 27, 43, 3, 9, 82, 10]\n",
        "sorted_arr = merge_sort(arr)\n",
        "\n",
        "i = len(sorted_arr) - 1\n",
        "\n",
        "while i > 0 :\n",
        "  assert sorted_arr[i] >= sorted_arr[i-1]\n",
        "  i = i - 1\n",
        "print(\"Sorted array:\", sorted_arr)\n",
        "\n",
        "\n",
        "\n",
        "\n",
        "\n"
      ],
      "metadata": {
        "id": "2Cb-n3vdxPK0",
        "outputId": "142c405d-75cd-4bff-e262-89ecf951d29f",
        "colab": {
          "base_uri": "https://localhost:8080/"
        }
      },
      "id": "2Cb-n3vdxPK0",
      "execution_count": 16,
      "outputs": [
        {
          "output_type": "stream",
          "name": "stdout",
          "text": [
            "Sorted array: [3, 9, 10, 27, 38, 43, 82]\n"
          ]
        }
      ]
    },
    {
      "cell_type": "markdown",
      "id": "1e44e3b2",
      "metadata": {
        "id": "1e44e3b2"
      },
      "source": [
        "## Note on assertions\n",
        "\n",
        "In case you are not familiar, an [assertion](https://en.wikipedia.org/wiki/Assertion_(software_development)) is a debugging technique that can be used in any programming language used to catch bugs that might not result in the code raising an error, but might lead to the code giving incorrect results. In Python, you use the ``assert <condition>`` statement to say that at this point in the program, the ``<condition>`` must be true otherwise something has gone wrong. Python will evaluate ``<condition>`` and if it evaluates to ``True``, do nothing, but if it evaluates to ``False`` it will raise an error. Assertions are only evaluated in debug mode (the default on Python), so that in production code they have no computational cost.\n",
        "\n",
        "Here's two examples to demonstrate what this looks like in Python."
      ]
    },
    {
      "cell_type": "code",
      "source": [
        "\n",
        "\n",
        "\n"
      ],
      "metadata": {
        "id": "OY6In6AkxrLq"
      },
      "id": "OY6In6AkxrLq",
      "execution_count": null,
      "outputs": []
    },
    {
      "cell_type": "code",
      "execution_count": 10,
      "id": "9add2f18",
      "metadata": {
        "id": "9add2f18",
        "outputId": "67493ed0-cafe-4ee4-bb3f-677b63fb93ec",
        "colab": {
          "base_uri": "https://localhost:8080/",
          "height": 297
        }
      },
      "outputs": [
        {
          "output_type": "error",
          "ename": "AssertionError",
          "evalue": "",
          "traceback": [
            "\u001b[0;31m---------------------------------------------------------------------------\u001b[0m",
            "\u001b[0;31mAssertionError\u001b[0m                            Traceback (most recent call last)",
            "\u001b[0;32m<ipython-input-10-a711fe48c2ae>\u001b[0m in \u001b[0;36m<cell line: 5>\u001b[0;34m()\u001b[0m\n\u001b[1;32m      3\u001b[0m     \u001b[0;32mreturn\u001b[0m \u001b[0mx\u001b[0m\u001b[0;34m//\u001b[0m\u001b[0;36m2\u001b[0m \u001b[0;31m# integer division\u001b[0m\u001b[0;34m\u001b[0m\u001b[0;34m\u001b[0m\u001b[0m\n\u001b[1;32m      4\u001b[0m \u001b[0;34m\u001b[0m\u001b[0m\n\u001b[0;32m----> 5\u001b[0;31m \u001b[0mexactly_half_of\u001b[0m\u001b[0;34m(\u001b[0m\u001b[0;36m5\u001b[0m\u001b[0;34m)\u001b[0m \u001b[0;31m# runs fine, assertion is True\u001b[0m\u001b[0;34m\u001b[0m\u001b[0;34m\u001b[0m\u001b[0m\n\u001b[0m",
            "\u001b[0;32m<ipython-input-10-a711fe48c2ae>\u001b[0m in \u001b[0;36mexactly_half_of\u001b[0;34m(x)\u001b[0m\n\u001b[1;32m      1\u001b[0m \u001b[0;32mdef\u001b[0m \u001b[0mexactly_half_of\u001b[0m\u001b[0;34m(\u001b[0m\u001b[0mx\u001b[0m\u001b[0;34m)\u001b[0m\u001b[0;34m:\u001b[0m\u001b[0;34m\u001b[0m\u001b[0;34m\u001b[0m\u001b[0m\n\u001b[0;32m----> 2\u001b[0;31m     \u001b[0;32massert\u001b[0m \u001b[0mx\u001b[0m\u001b[0;34m%\u001b[0m\u001b[0;36m2\u001b[0m\u001b[0;34m==\u001b[0m\u001b[0;36m0\u001b[0m \u001b[0;31m# can only return exactly half if it's divisible by 2\u001b[0m\u001b[0;34m\u001b[0m\u001b[0;34m\u001b[0m\u001b[0m\n\u001b[0m\u001b[1;32m      3\u001b[0m     \u001b[0;32mreturn\u001b[0m \u001b[0mx\u001b[0m\u001b[0;34m//\u001b[0m\u001b[0;36m2\u001b[0m \u001b[0;31m# integer division\u001b[0m\u001b[0;34m\u001b[0m\u001b[0;34m\u001b[0m\u001b[0m\n\u001b[1;32m      4\u001b[0m \u001b[0;34m\u001b[0m\u001b[0m\n\u001b[1;32m      5\u001b[0m \u001b[0mexactly_half_of\u001b[0m\u001b[0;34m(\u001b[0m\u001b[0;36m5\u001b[0m\u001b[0;34m)\u001b[0m \u001b[0;31m# runs fine, assertion is True\u001b[0m\u001b[0;34m\u001b[0m\u001b[0;34m\u001b[0m\u001b[0m\n",
            "\u001b[0;31mAssertionError\u001b[0m: "
          ]
        }
      ],
      "source": [
        "def exactly_half_of(x):\n",
        "    assert x%2==0 # can only return exactly half if it's divisible by 2\n",
        "    return x//2 # integer division\n",
        "\n",
        "exactly_half_of(5) # runs fine, assertion is True"
      ]
    },
    {
      "cell_type": "code",
      "execution_count": null,
      "id": "fd73edfe",
      "metadata": {
        "id": "fd73edfe",
        "outputId": "49eb8196-658b-4b8e-db3e-7e1d4f0bdeb3"
      },
      "outputs": [
        {
          "ename": "AssertionError",
          "evalue": "",
          "output_type": "error",
          "traceback": [
            "\u001b[1;31m---------------------------------------------------------------------------\u001b[0m",
            "\u001b[1;31mAssertionError\u001b[0m                            Traceback (most recent call last)",
            "Input \u001b[1;32mIn [2]\u001b[0m, in \u001b[0;36m<cell line: 1>\u001b[1;34m()\u001b[0m\n\u001b[1;32m----> 1\u001b[0m \u001b[43mexactly_half_of\u001b[49m\u001b[43m(\u001b[49m\u001b[38;5;241;43m3\u001b[39;49m\u001b[43m)\u001b[49m\n",
            "Input \u001b[1;32mIn [1]\u001b[0m, in \u001b[0;36mexactly_half_of\u001b[1;34m(x)\u001b[0m\n\u001b[0;32m      1\u001b[0m \u001b[38;5;28;01mdef\u001b[39;00m \u001b[38;5;21mexactly_half_of\u001b[39m(x):\n\u001b[1;32m----> 2\u001b[0m     \u001b[38;5;28;01massert\u001b[39;00m x\u001b[38;5;241m%\u001b[39m\u001b[38;5;241m2\u001b[39m\u001b[38;5;241m==\u001b[39m\u001b[38;5;241m0\u001b[39m \u001b[38;5;66;03m# can only return exactly half if it's divisible by 2\u001b[39;00m\n\u001b[0;32m      3\u001b[0m     \u001b[38;5;28;01mreturn\u001b[39;00m x\u001b[38;5;241m/\u001b[39m\u001b[38;5;241m/\u001b[39m\u001b[38;5;241m2\u001b[39m\n",
            "\u001b[1;31mAssertionError\u001b[0m: "
          ]
        }
      ],
      "source": [
        "exactly_half_of(3) # raises an AssertionError because 3 is not divisible by 2"
      ]
    },
    {
      "cell_type": "markdown",
      "id": "0dd6e3d0",
      "metadata": {
        "id": "0dd6e3d0"
      },
      "source": [
        "Why might you want to use this? Well, just imagine in the code above if you didn't have an assertion and you did something like this (contrived example):"
      ]
    },
    {
      "cell_type": "code",
      "execution_count": null,
      "id": "16cecdd9",
      "metadata": {
        "id": "16cecdd9",
        "outputId": "39fa7932-f92b-445e-b8b2-f3fa01beac08"
      },
      "outputs": [
        {
          "name": "stdout",
          "output_type": "stream",
          "text": [
            "3\n"
          ]
        }
      ],
      "source": [
        "def half_of(n):\n",
        "    return n//2 # integer division\n",
        "\n",
        "def crazy_sum(X):\n",
        "    n = len(X)\n",
        "    half_n = half_of(n)\n",
        "    left_sum = sum(X[0:half_n])\n",
        "    right_sum = sum(X[half_n:2*half_n])\n",
        "    return left_sum+right_sum\n",
        "\n",
        "print(crazy_sum([1,2,3]))"
      ]
    },
    {
      "cell_type": "markdown",
      "id": "82bec6fb",
      "metadata": {
        "id": "82bec6fb"
      },
      "source": [
        "You can see here that the sum returns 3 when you probably intended it to return 6. Your code has a bug but you don't get an error. If you had done the same thing with an assertion, it would raise an error and so you'd discover that your code had a hidden assumption that n is even."
      ]
    },
    {
      "cell_type": "code",
      "execution_count": null,
      "id": "3354b1a9",
      "metadata": {
        "id": "3354b1a9",
        "outputId": "4971c84a-3265-411e-fd47-d2fbc1bcc5b0"
      },
      "outputs": [
        {
          "ename": "AssertionError",
          "evalue": "",
          "output_type": "error",
          "traceback": [
            "\u001b[1;31m---------------------------------------------------------------------------\u001b[0m",
            "\u001b[1;31mAssertionError\u001b[0m                            Traceback (most recent call last)",
            "Input \u001b[1;32mIn [4]\u001b[0m, in \u001b[0;36m<cell line: 12>\u001b[1;34m()\u001b[0m\n\u001b[0;32m      9\u001b[0m     right_sum \u001b[38;5;241m=\u001b[39m \u001b[38;5;28msum\u001b[39m(X[half_n:\u001b[38;5;241m2\u001b[39m\u001b[38;5;241m*\u001b[39mhalf_n])\n\u001b[0;32m     10\u001b[0m     \u001b[38;5;28;01mreturn\u001b[39;00m left_sum\u001b[38;5;241m+\u001b[39mright_sum\n\u001b[1;32m---> 12\u001b[0m \u001b[38;5;28mprint\u001b[39m(\u001b[43mcrazy_sum\u001b[49m\u001b[43m(\u001b[49m\u001b[43m[\u001b[49m\u001b[38;5;241;43m1\u001b[39;49m\u001b[43m,\u001b[49m\u001b[38;5;241;43m2\u001b[39;49m\u001b[43m,\u001b[49m\u001b[38;5;241;43m3\u001b[39;49m\u001b[43m]\u001b[49m\u001b[43m)\u001b[49m)\n",
            "Input \u001b[1;32mIn [4]\u001b[0m, in \u001b[0;36mcrazy_sum\u001b[1;34m(X)\u001b[0m\n\u001b[0;32m      5\u001b[0m \u001b[38;5;28;01mdef\u001b[39;00m \u001b[38;5;21mcrazy_sum\u001b[39m(X):\n\u001b[0;32m      6\u001b[0m     n \u001b[38;5;241m=\u001b[39m \u001b[38;5;28mlen\u001b[39m(X)\n\u001b[1;32m----> 7\u001b[0m     half_n \u001b[38;5;241m=\u001b[39m \u001b[43mhalf_of\u001b[49m\u001b[43m(\u001b[49m\u001b[43mn\u001b[49m\u001b[43m)\u001b[49m\n\u001b[0;32m      8\u001b[0m     left_sum \u001b[38;5;241m=\u001b[39m \u001b[38;5;28msum\u001b[39m(X[\u001b[38;5;241m0\u001b[39m:half_n])\n\u001b[0;32m      9\u001b[0m     right_sum \u001b[38;5;241m=\u001b[39m \u001b[38;5;28msum\u001b[39m(X[half_n:\u001b[38;5;241m2\u001b[39m\u001b[38;5;241m*\u001b[39mhalf_n])\n",
            "Input \u001b[1;32mIn [4]\u001b[0m, in \u001b[0;36mhalf_of\u001b[1;34m(n)\u001b[0m\n\u001b[0;32m      1\u001b[0m \u001b[38;5;28;01mdef\u001b[39;00m \u001b[38;5;21mhalf_of\u001b[39m(n):\n\u001b[1;32m----> 2\u001b[0m     \u001b[38;5;28;01massert\u001b[39;00m n\u001b[38;5;241m%\u001b[39m\u001b[38;5;241m2\u001b[39m\u001b[38;5;241m==\u001b[39m\u001b[38;5;241m0\u001b[39m\n\u001b[0;32m      3\u001b[0m     \u001b[38;5;28;01mreturn\u001b[39;00m n\u001b[38;5;241m/\u001b[39m\u001b[38;5;241m/\u001b[39m\u001b[38;5;241m2\u001b[39m\n",
            "\u001b[1;31mAssertionError\u001b[0m: "
          ]
        }
      ],
      "source": [
        "def half_of(n):\n",
        "    assert n%2==0\n",
        "    return n//2 # integer division\n",
        "\n",
        "def crazy_sum(X):\n",
        "    n = len(X)\n",
        "    half_n = half_of(n)\n",
        "    left_sum = sum(X[0:half_n])\n",
        "    right_sum = sum(X[half_n:2*half_n])\n",
        "    return left_sum+right_sum\n",
        "\n",
        "print(crazy_sum([1,2,3]))"
      ]
    },
    {
      "cell_type": "code",
      "source": [],
      "metadata": {
        "id": "MJBC5qaZvxh3"
      },
      "id": "MJBC5qaZvxh3",
      "execution_count": null,
      "outputs": []
    }
  ],
  "metadata": {
    "kernelspec": {
      "display_name": "Python 3 (ipykernel)",
      "language": "python",
      "name": "python3"
    },
    "language_info": {
      "codemirror_mode": {
        "name": "ipython",
        "version": 3
      },
      "file_extension": ".py",
      "mimetype": "text/x-python",
      "name": "python",
      "nbconvert_exporter": "python",
      "pygments_lexer": "ipython3",
      "version": "3.10.4"
    },
    "colab": {
      "provenance": []
    }
  },
  "nbformat": 4,
  "nbformat_minor": 5
}